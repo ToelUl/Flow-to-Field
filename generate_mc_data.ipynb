{
 "cells": [
  {
   "cell_type": "code",
   "id": "initial_id",
   "metadata": {
    "collapsed": true,
    "ExecuteTime": {
     "end_time": "2025-07-19T03:25:27.543517Z",
     "start_time": "2025-07-19T03:25:24.260316Z"
    }
   },
   "source": [
    "import phyflow.monte_carlo as mc\n",
    "import torch"
   ],
   "outputs": [],
   "execution_count": 1
  },
  {
   "metadata": {
    "ExecuteTime": {
     "end_time": "2025-07-19T03:25:27.586602Z",
     "start_time": "2025-07-19T03:25:27.583884Z"
    }
   },
   "cell_type": "code",
   "source": "device = 'cuda:0' if torch.cuda.is_available() else 'cpu'",
   "id": "b1fe0edd45adccc7",
   "outputs": [],
   "execution_count": 2
  },
  {
   "metadata": {
    "ExecuteTime": {
     "end_time": "2025-07-19T03:25:27.687347Z",
     "start_time": "2025-07-19T03:25:27.684181Z"
    }
   },
   "cell_type": "code",
   "source": [
    "save_dir_root = './'\n",
    "xy_generator = mc.MCDataGenerator(sampler_class=mc.XYModel, save_dir_root=save_dir_root)\n",
    "\n",
    "L_list = [16, 32, 64]\n",
    "T_start = 0.1\n",
    "T_end = 2.0\n",
    "precision = 0.01\n",
    "ensemble_number = 1500"
   ],
   "id": "225b09fe409363c0",
   "outputs": [
    {
     "name": "stderr",
     "output_type": "stream",
     "text": [
      "2025-07-19 11:25:27,685 - INFO - MCDataGenerator initialized for XYModel with save root: .\n"
     ]
    }
   ],
   "execution_count": 3
  },
  {
   "metadata": {
    "ExecuteTime": {
     "end_time": "2025-07-19T04:16:11.273557Z",
     "start_time": "2025-07-19T03:25:29.247275Z"
    }
   },
   "cell_type": "code",
   "source": [
    "for L in L_list:\n",
    "    torch.cuda.empty_cache()\n",
    "    torch.cuda.synchronize(device)\n",
    "    xy_generator.forward(\n",
    "        L=L,\n",
    "        T_start=T_start,\n",
    "        T_end=T_end,\n",
    "        precision=precision,\n",
    "        ensemble_number=ensemble_number,\n",
    "        device=device,\n",
    "    )\n",
    "    print(f\"Finished generating data for L={L}.\")\n",
    "    print('' + '-' * 50 + '\\n')"
   ],
   "id": "d9ceac4f1ac34457",
   "outputs": [
    {
     "name": "stderr",
     "output_type": "stream",
     "text": [
      "2025-07-19 11:25:29,387 - INFO - --- Simulation Parameters for XYModel ---\n",
      "2025-07-19 11:25:29,388 - INFO - Lattice size (L): 16\n",
      "2025-07-19 11:25:29,388 - INFO - Temperature range: 0.1 to 2.0 (precision: 0.01, steps: 190)\n",
      "2025-07-19 11:25:29,389 - INFO - Device: cuda:0\n",
      "2025-07-19 11:25:29,390 - INFO - Ensemble number per T: 1500\n",
      "2025-07-19 11:25:29,390 - INFO - Number of chains (n_chains): 10\n",
      "2025-07-19 11:25:29,390 - INFO - Parallel Tempering: Enabled (interval: 1, prob: 0.1)\n",
      "2025-07-19 11:25:29,391 - INFO - Calculated tau: 445.7, tau_eff: 9.8\n",
      "2025-07-19 11:25:29,391 - INFO - Thermalization sweeps (n_therm): 13371 (factor: 30)\n",
      "2025-07-19 11:25:29,392 - INFO - Decorrelation sweeps (decorrelate): 19 (factor: 2)\n",
      "2025-07-19 11:25:29,392 - INFO - Production sweeps (n_sweeps): 2850\n",
      "2025-07-19 11:25:29,393 - INFO - -----------------------------------------------------\n",
      "2025-07-19 11:25:29,487 - INFO - Starting Monte Carlo simulation...\n"
     ]
    },
    {
     "name": "stdout",
     "output_type": "stream",
     "text": [
      "Initialized MonteCarloSampler on device: cuda:0\n",
      " L=16, BatchSize=190, ChainsPerTemp=10, AMP=True, PT=True, LargeSim=False\n",
      "Starting simulation: 13371 thermalization sweeps, 2850 production sweeps.\n",
      "Thermalization phase...\n",
      "Production phase...\n"
     ]
    },
    {
     "name": "stderr",
     "output_type": "stream",
     "text": [
      "2025-07-19 11:25:45,431 - INFO - Simulation finished. Elapsed time: 15.94 s\n",
      "2025-07-19 11:25:45,431 - INFO - Generated samples shape: torch.Size([190, 1500, 16, 16])\n",
      "2025-07-19 11:25:45,433 - INFO - Ensured directory exists: mc_data\n",
      "2025-07-19 11:25:45,436 - INFO - Ensured directory exists: mc_data/XYModel\n",
      "2025-07-19 11:25:45,438 - INFO - Ensured directory exists: mc_data/XYModel/field_config\n",
      "2025-07-19 11:25:45,441 - INFO - Ensured directory exists: mc_data/XYModel/measurement\n",
      "2025-07-19 11:25:45,442 - INFO - Saving field configurations to: mc_data/XYModel/field_config/XYModel_L16_T0_100-2_000_prec0_010_ens1500_configs.pt\n",
      "2025-07-19 11:25:45,442 - INFO - Configs tensor shape: torch.Size([190, 1500, 16, 16])\n",
      "2025-07-19 11:25:45,443 - INFO - Labels tensor shape: torch.Size([190, 2])\n"
     ]
    },
    {
     "name": "stdout",
     "output_type": "stream",
     "text": [
      "Simulation finished. Collected 1500 samples.\n",
      "labels shape: torch.Size([190, 2])\n",
      "first label pair: tensor([ 0.1000, 16.0000])\n"
     ]
    },
    {
     "name": "stderr",
     "output_type": "stream",
     "text": [
      "2025-07-19 11:25:46,833 - INFO - Field configurations saved.\n",
      "2025-07-19 11:25:46,833 - INFO - Performing measurements...\n",
      "2025-07-19 11:25:47,940 - INFO - Measurements complete.\n",
      "2025-07-19 11:25:47,941 - INFO - Saving measurements dictionary to: mc_data/XYModel/measurement/XYModel_L16_T0_100-2_000_prec0_010_ens1500_measurements.pt\n",
      "2025-07-19 11:25:47,944 - INFO - Measurements dictionary saved.\n",
      "2025-07-19 11:25:47,945 - INFO - Saving plots to: mc_data/XYModel/measurement/XYModel_L16_T0_100-2_000_prec0_010_ens1500_plots.png\n",
      "2025-07-19 11:25:48,442 - INFO - Plots saved.\n",
      "2025-07-19 11:25:48,626 - INFO - Cleared CUDA cache.\n",
      "2025-07-19 11:25:48,627 - INFO - MCDataGenerator call finished. Total time: 19.24 s\n",
      "2025-07-19 11:25:48,628 - INFO - --- Simulation Parameters for XYModel ---\n",
      "2025-07-19 11:25:48,629 - INFO - Lattice size (L): 32\n",
      "2025-07-19 11:25:48,629 - INFO - Temperature range: 0.1 to 2.0 (precision: 0.01, steps: 190)\n",
      "2025-07-19 11:25:48,630 - INFO - Device: cuda:0\n",
      "2025-07-19 11:25:48,631 - INFO - Ensemble number per T: 1500\n",
      "2025-07-19 11:25:48,631 - INFO - Number of chains (n_chains): 10\n",
      "2025-07-19 11:25:48,631 - INFO - Parallel Tempering: Enabled (interval: 1, prob: 0.1)\n",
      "2025-07-19 11:25:48,632 - INFO - Calculated tau: 2048.0, tau_eff: 10.0\n",
      "2025-07-19 11:25:48,632 - INFO - Thermalization sweeps (n_therm): 61440 (factor: 30)\n",
      "2025-07-19 11:25:48,633 - INFO - Decorrelation sweeps (decorrelate): 19 (factor: 2)\n",
      "2025-07-19 11:25:48,633 - INFO - Production sweeps (n_sweeps): 2850\n",
      "2025-07-19 11:25:48,633 - INFO - -----------------------------------------------------\n",
      "2025-07-19 11:25:48,636 - INFO - Starting Monte Carlo simulation...\n"
     ]
    },
    {
     "name": "stdout",
     "output_type": "stream",
     "text": [
      "Finished generating data for L=16.\n",
      "--------------------------------------------------\n",
      "\n",
      "Initialized MonteCarloSampler on device: cuda:0\n",
      " L=32, BatchSize=190, ChainsPerTemp=10, AMP=True, PT=True, LargeSim=False\n",
      "Starting simulation: 61440 thermalization sweeps, 2850 production sweeps.\n",
      "Thermalization phase...\n",
      "Production phase...\n",
      "Simulation finished. Collected 1500 samples.\n"
     ]
    },
    {
     "name": "stderr",
     "output_type": "stream",
     "text": [
      "2025-07-19 11:28:02,010 - INFO - Simulation finished. Elapsed time: 133.37 s\n",
      "2025-07-19 11:28:02,010 - INFO - Generated samples shape: torch.Size([190, 1500, 32, 32])\n",
      "2025-07-19 11:28:02,012 - INFO - Ensured directory exists: mc_data\n",
      "2025-07-19 11:28:02,014 - INFO - Ensured directory exists: mc_data/XYModel\n",
      "2025-07-19 11:28:02,017 - INFO - Ensured directory exists: mc_data/XYModel/field_config\n",
      "2025-07-19 11:28:02,020 - INFO - Ensured directory exists: mc_data/XYModel/measurement\n",
      "2025-07-19 11:28:02,021 - INFO - Saving field configurations to: mc_data/XYModel/field_config/XYModel_L32_T0_100-2_000_prec0_010_ens1500_configs.pt\n",
      "2025-07-19 11:28:02,021 - INFO - Configs tensor shape: torch.Size([190, 1500, 32, 32])\n",
      "2025-07-19 11:28:02,022 - INFO - Labels tensor shape: torch.Size([190, 2])\n"
     ]
    },
    {
     "name": "stdout",
     "output_type": "stream",
     "text": [
      "labels shape: torch.Size([190, 2])\n",
      "first label pair: tensor([ 0.1000, 32.0000])\n"
     ]
    },
    {
     "name": "stderr",
     "output_type": "stream",
     "text": [
      "2025-07-19 11:28:07,748 - INFO - Field configurations saved.\n",
      "2025-07-19 11:28:07,749 - INFO - Performing measurements...\n",
      "2025-07-19 11:28:09,480 - INFO - Measurements complete.\n",
      "2025-07-19 11:28:09,481 - INFO - Saving measurements dictionary to: mc_data/XYModel/measurement/XYModel_L32_T0_100-2_000_prec0_010_ens1500_measurements.pt\n",
      "2025-07-19 11:28:09,485 - INFO - Measurements dictionary saved.\n",
      "2025-07-19 11:28:09,486 - INFO - Saving plots to: mc_data/XYModel/measurement/XYModel_L32_T0_100-2_000_prec0_010_ens1500_plots.png\n",
      "2025-07-19 11:28:09,975 - INFO - Plots saved.\n",
      "2025-07-19 11:28:10,171 - INFO - Cleared CUDA cache.\n",
      "2025-07-19 11:28:10,172 - INFO - MCDataGenerator call finished. Total time: 141.54 s\n",
      "2025-07-19 11:28:10,173 - INFO - --- Simulation Parameters for XYModel ---\n",
      "2025-07-19 11:28:10,174 - INFO - Lattice size (L): 64\n",
      "2025-07-19 11:28:10,175 - INFO - Temperature range: 0.1 to 2.0 (precision: 0.01, steps: 190)\n",
      "2025-07-19 11:28:10,175 - INFO - Device: cuda:0\n",
      "2025-07-19 11:28:10,175 - INFO - Ensemble number per T: 1500\n",
      "2025-07-19 11:28:10,176 - INFO - Number of chains (n_chains): 10\n",
      "2025-07-19 11:28:10,176 - INFO - Parallel Tempering: Enabled (interval: 1, prob: 0.1)\n",
      "2025-07-19 11:28:10,176 - INFO - Calculated tau: 9410.1, tau_eff: 10.0\n",
      "2025-07-19 11:28:10,177 - INFO - Thermalization sweeps (n_therm): 282304 (factor: 30)\n",
      "2025-07-19 11:28:10,177 - INFO - Decorrelation sweeps (decorrelate): 19 (factor: 2)\n",
      "2025-07-19 11:28:10,177 - INFO - Production sweeps (n_sweeps): 2850\n",
      "2025-07-19 11:28:10,178 - INFO - -----------------------------------------------------\n",
      "2025-07-19 11:28:10,181 - INFO - Starting Monte Carlo simulation...\n"
     ]
    },
    {
     "name": "stdout",
     "output_type": "stream",
     "text": [
      "Finished generating data for L=32.\n",
      "--------------------------------------------------\n",
      "\n",
      "Initialized MonteCarloSampler on device: cuda:0\n",
      " L=64, BatchSize=190, ChainsPerTemp=10, AMP=True, PT=True, LargeSim=False\n",
      "Starting simulation: 282304 thermalization sweeps, 2850 production sweeps.\n",
      "Thermalization phase...\n",
      "Production phase...\n",
      "Simulation finished. Collected 1500 samples.\n"
     ]
    },
    {
     "name": "stderr",
     "output_type": "stream",
     "text": [
      "2025-07-19 12:15:38,890 - INFO - Simulation finished. Elapsed time: 2848.71 s\n",
      "2025-07-19 12:15:38,890 - INFO - Generated samples shape: torch.Size([190, 1500, 64, 64])\n",
      "2025-07-19 12:15:38,892 - INFO - Ensured directory exists: mc_data\n",
      "2025-07-19 12:15:38,894 - INFO - Ensured directory exists: mc_data/XYModel\n",
      "2025-07-19 12:15:38,896 - INFO - Ensured directory exists: mc_data/XYModel/field_config\n",
      "2025-07-19 12:15:38,899 - INFO - Ensured directory exists: mc_data/XYModel/measurement\n",
      "2025-07-19 12:15:38,900 - INFO - Saving field configurations to: mc_data/XYModel/field_config/XYModel_L64_T0_100-2_000_prec0_010_ens1500_configs.pt\n",
      "2025-07-19 12:15:38,900 - INFO - Configs tensor shape: torch.Size([190, 1500, 64, 64])\n",
      "2025-07-19 12:15:38,900 - INFO - Labels tensor shape: torch.Size([190, 2])\n"
     ]
    },
    {
     "name": "stdout",
     "output_type": "stream",
     "text": [
      "labels shape: torch.Size([190, 2])\n",
      "first label pair: tensor([ 0.1000, 64.0000])\n"
     ]
    },
    {
     "name": "stderr",
     "output_type": "stream",
     "text": [
      "2025-07-19 12:16:02,462 - INFO - Field configurations saved.\n",
      "2025-07-19 12:16:02,462 - INFO - Performing measurements...\n",
      "2025-07-19 12:16:10,546 - INFO - Measurements complete.\n",
      "2025-07-19 12:16:10,547 - INFO - Saving measurements dictionary to: mc_data/XYModel/measurement/XYModel_L64_T0_100-2_000_prec0_010_ens1500_measurements.pt\n",
      "2025-07-19 12:16:10,551 - INFO - Measurements dictionary saved.\n",
      "2025-07-19 12:16:10,551 - INFO - Saving plots to: mc_data/XYModel/measurement/XYModel_L64_T0_100-2_000_prec0_010_ens1500_plots.png\n",
      "2025-07-19 12:16:11,052 - INFO - Plots saved.\n",
      "2025-07-19 12:16:11,271 - INFO - Cleared CUDA cache.\n",
      "2025-07-19 12:16:11,271 - INFO - MCDataGenerator call finished. Total time: 2881.10 s\n"
     ]
    },
    {
     "name": "stdout",
     "output_type": "stream",
     "text": [
      "Finished generating data for L=64.\n",
      "--------------------------------------------------\n",
      "\n"
     ]
    }
   ],
   "execution_count": 4
  },
  {
   "metadata": {},
   "cell_type": "markdown",
   "source": "# Larger system size simulation",
   "id": "836056038ddd0bef"
  },
  {
   "metadata": {
    "ExecuteTime": {
     "end_time": "2025-07-18T17:30:25.790233Z",
     "start_time": "2025-07-18T17:30:25.787088Z"
    }
   },
   "cell_type": "code",
   "source": [
    "save_dir_root = './'\n",
    "xy_generator = mc.MCDataGenerator(sampler_class=mc.XYModel, save_dir_root=save_dir_root)\n",
    "\n",
    "L = 128\n",
    "T_start = 0.8\n",
    "T_end = 1.05\n",
    "precision = 0.005\n",
    "ensemble_number = 1000"
   ],
   "id": "1f2b95d1f8965d97",
   "outputs": [
    {
     "name": "stderr",
     "output_type": "stream",
     "text": [
      "2025-07-19 01:30:25,788 - INFO - MCDataGenerator initialized for XYModel with save root: .\n"
     ]
    }
   ],
   "execution_count": 5
  },
  {
   "metadata": {
    "ExecuteTime": {
     "end_time": "2025-07-18T21:19:46.152468Z",
     "start_time": "2025-07-18T17:30:25.839585Z"
    }
   },
   "cell_type": "code",
   "source": [
    "xy_generator.forward(\n",
    "    L=L,\n",
    "    T_start=T_start,\n",
    "    T_end=T_end,\n",
    "    precision=precision,\n",
    "    ensemble_number=ensemble_number,\n",
    "    device=device,\n",
    ")"
   ],
   "id": "92b9f1b75c2d23d9",
   "outputs": [
    {
     "name": "stderr",
     "output_type": "stream",
     "text": [
      "2025-07-19 01:30:25,840 - INFO - --- Simulation Parameters for XYModel ---\n",
      "2025-07-19 01:30:25,841 - INFO - Lattice size (L): 128\n",
      "2025-07-19 01:30:25,842 - INFO - Temperature range: 0.8 to 1.05 (precision: 0.005, steps: 50)\n",
      "2025-07-19 01:30:25,842 - INFO - Device: cuda:0\n",
      "2025-07-19 01:30:25,842 - INFO - Ensemble number per T: 1000\n",
      "2025-07-19 01:30:25,843 - INFO - Number of chains (n_chains): 10\n",
      "2025-07-19 01:30:25,843 - INFO - Parallel Tempering: Enabled (interval: 1, prob: 0.1)\n",
      "2025-07-19 01:30:25,844 - INFO - Calculated tau: 43237.6, tau_eff: 10.0\n",
      "2025-07-19 01:30:25,844 - INFO - Thermalization sweeps (n_therm): 1297129 (factor: 30)\n",
      "2025-07-19 01:30:25,844 - INFO - Decorrelation sweeps (decorrelate): 19 (factor: 2)\n",
      "2025-07-19 01:30:25,845 - INFO - Production sweeps (n_sweeps): 1900\n",
      "2025-07-19 01:30:25,845 - INFO - -----------------------------------------------------\n",
      "2025-07-19 01:30:25,850 - INFO - Starting Monte Carlo simulation...\n"
     ]
    },
    {
     "name": "stdout",
     "output_type": "stream",
     "text": [
      "Initialized MonteCarloSampler on device: cuda:0\n",
      " L=128, BatchSize=50, ChainsPerTemp=10, AMP=True, PT=True, LargeSim=False\n",
      "Starting simulation: 1297129 thermalization sweeps, 1900 production sweeps.\n",
      "Thermalization phase...\n",
      "Production phase...\n",
      "Simulation finished. Collected 1000 samples.\n"
     ]
    },
    {
     "name": "stderr",
     "output_type": "stream",
     "text": [
      "2025-07-19 05:19:25,392 - INFO - Simulation finished. Elapsed time: 13739.54 s\n",
      "2025-07-19 05:19:25,392 - INFO - Generated samples shape: torch.Size([50, 1000, 128, 128])\n",
      "2025-07-19 05:19:25,394 - INFO - Ensured directory exists: mc_data\n",
      "2025-07-19 05:19:25,396 - INFO - Ensured directory exists: mc_data/XYModel\n",
      "2025-07-19 05:19:25,399 - INFO - Ensured directory exists: mc_data/XYModel/field_config\n",
      "2025-07-19 05:19:25,402 - INFO - Ensured directory exists: mc_data/XYModel/measurement\n",
      "2025-07-19 05:19:25,402 - INFO - Saving field configurations to: mc_data/XYModel/field_config/XYModel_L128_T0_800-1_050_prec0_005_ens1000_configs.pt\n",
      "2025-07-19 05:19:25,403 - INFO - Configs tensor shape: torch.Size([50, 1000, 128, 128])\n",
      "2025-07-19 05:19:25,403 - INFO - Labels tensor shape: torch.Size([50, 2])\n"
     ]
    },
    {
     "name": "stdout",
     "output_type": "stream",
     "text": [
      "labels shape: torch.Size([50, 2])\n",
      "first label pair: tensor([  0.8000, 128.0000])\n"
     ]
    },
    {
     "name": "stderr",
     "output_type": "stream",
     "text": [
      "2025-07-19 05:19:41,613 - INFO - Field configurations saved.\n",
      "2025-07-19 05:19:41,614 - INFO - Performing measurements...\n",
      "2025-07-19 05:19:45,476 - INFO - Measurements complete.\n",
      "2025-07-19 05:19:45,476 - INFO - Saving measurements dictionary to: mc_data/XYModel/measurement/XYModel_L128_T0_800-1_050_prec0_005_ens1000_measurements.pt\n",
      "2025-07-19 05:19:45,480 - INFO - Measurements dictionary saved.\n",
      "2025-07-19 05:19:45,481 - INFO - Saving plots to: mc_data/XYModel/measurement/XYModel_L128_T0_800-1_050_prec0_005_ens1000_plots.png\n",
      "2025-07-19 05:19:45,949 - INFO - Plots saved.\n",
      "2025-07-19 05:19:46,150 - INFO - Cleared CUDA cache.\n",
      "2025-07-19 05:19:46,150 - INFO - MCDataGenerator call finished. Total time: 13760.31 s\n"
     ]
    }
   ],
   "execution_count": 6
  }
 ],
 "metadata": {
  "kernelspec": {
   "display_name": "Python 3",
   "language": "python",
   "name": "python3"
  },
  "language_info": {
   "codemirror_mode": {
    "name": "ipython",
    "version": 2
   },
   "file_extension": ".py",
   "mimetype": "text/x-python",
   "name": "python",
   "nbconvert_exporter": "python",
   "pygments_lexer": "ipython2",
   "version": "2.7.6"
  }
 },
 "nbformat": 4,
 "nbformat_minor": 5
}
