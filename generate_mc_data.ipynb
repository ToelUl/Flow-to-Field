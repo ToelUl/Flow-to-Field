{
 "cells": [
  {
   "cell_type": "code",
   "execution_count": null,
   "id": "initial_id",
   "metadata": {
    "collapsed": true
   },
   "outputs": [],
   "source": [
    "import phyflow as pf\n",
    "import phyflow.monte_carlo as mc\n",
    "import torch"
   ]
  },
  {
   "metadata": {},
   "cell_type": "code",
   "outputs": [],
   "execution_count": null,
   "source": "device = 'cuda:0' if torch.cuda.is_available() else 'cpu'",
   "id": "b1fe0edd45adccc7"
  },
  {
   "metadata": {},
   "cell_type": "code",
   "outputs": [],
   "execution_count": null,
   "source": [
    "save_dir_root = './'\n",
    "xy_generator = mc.MCDataGenerator(sampler_class=mc.XYModel, save_dir_root=save_dir_root)\n",
    "\n",
    "L_list = [16, 24, 32, 48, 64]\n",
    "T_start = 0.1\n",
    "T_end = 2.0\n",
    "precision = 0.01\n",
    "ensemble_number = 1500"
   ],
   "id": "225b09fe409363c0"
  },
  {
   "metadata": {},
   "cell_type": "code",
   "outputs": [],
   "execution_count": null,
   "source": [
    "for L in L_list:\n",
    "    xy_generator.forward(\n",
    "        L=L,\n",
    "        T_start=T_start,\n",
    "        T_end=T_end,\n",
    "        precision=precision,\n",
    "        ensemble_number=ensemble_number,\n",
    "        device=device,\n",
    "    )"
   ],
   "id": "d9ceac4f1ac34457"
  }
 ],
 "metadata": {
  "kernelspec": {
   "display_name": "Python 3",
   "language": "python",
   "name": "python3"
  },
  "language_info": {
   "codemirror_mode": {
    "name": "ipython",
    "version": 2
   },
   "file_extension": ".py",
   "mimetype": "text/x-python",
   "name": "python",
   "nbconvert_exporter": "python",
   "pygments_lexer": "ipython2",
   "version": "2.7.6"
  }
 },
 "nbformat": 4,
 "nbformat_minor": 5
}
