{
 "cells": [
  {
   "cell_type": "code",
   "id": "initial_id",
   "metadata": {
    "collapsed": true,
    "ExecuteTime": {
     "end_time": "2025-07-02T09:14:09.651340Z",
     "start_time": "2025-07-02T09:14:07.040374Z"
    }
   },
   "source": [
    "import phyflow.monte_carlo as mc\n",
    "import torch"
   ],
   "outputs": [],
   "execution_count": 1
  },
  {
   "metadata": {
    "ExecuteTime": {
     "end_time": "2025-07-02T09:14:09.706136Z",
     "start_time": "2025-07-02T09:14:09.703773Z"
    }
   },
   "cell_type": "code",
   "source": "device = 'cuda:0' if torch.cuda.is_available() else 'cpu'",
   "id": "b1fe0edd45adccc7",
   "outputs": [],
   "execution_count": 2
  },
  {
   "metadata": {
    "ExecuteTime": {
     "end_time": "2025-07-02T09:14:09.757011Z",
     "start_time": "2025-07-02T09:14:09.754052Z"
    }
   },
   "cell_type": "code",
   "source": [
    "save_dir_root = './'\n",
    "xy_generator = mc.MCDataGenerator(sampler_class=mc.XYModel, save_dir_root=save_dir_root)\n",
    "\n",
    "L_list = [16, 24, 32, 48, 64]\n",
    "T_start = 0.1\n",
    "T_end = 2.0\n",
    "precision = 0.05\n",
    "ensemble_number = 1500"
   ],
   "id": "225b09fe409363c0",
   "outputs": [
    {
     "name": "stderr",
     "output_type": "stream",
     "text": [
      "2025-07-02 17:14:09,755 - INFO - MCDataGenerator initialized for XYModel with save root: .\n"
     ]
    }
   ],
   "execution_count": 3
  },
  {
   "metadata": {
    "ExecuteTime": {
     "end_time": "2025-07-02T09:25:11.156174Z",
     "start_time": "2025-07-02T09:14:09.810443Z"
    }
   },
   "cell_type": "code",
   "source": [
    "for L in L_list:\n",
    "    xy_generator.forward(\n",
    "        L=L,\n",
    "        T_start=T_start,\n",
    "        T_end=T_end,\n",
    "        precision=precision,\n",
    "        ensemble_number=ensemble_number,\n",
    "        device=device,\n",
    "    )"
   ],
   "id": "d9ceac4f1ac34457",
   "outputs": [
    {
     "name": "stderr",
     "output_type": "stream",
     "text": [
      "2025-07-02 17:14:09,980 - INFO - --- Simulation Parameters for XYModel ---\n",
      "2025-07-02 17:14:09,980 - INFO - Lattice size (L): 16\n",
      "2025-07-02 17:14:09,981 - INFO - Temperature range: 0.1 to 2.0 (precision: 0.05, steps: 38)\n",
      "2025-07-02 17:14:09,981 - INFO - Device: cuda:0\n",
      "2025-07-02 17:14:09,981 - INFO - Ensemble number per T: 1500\n",
      "2025-07-02 17:14:09,983 - INFO - Number of chains (n_chains): 10\n",
      "2025-07-02 17:14:09,983 - INFO - Parallel Tempering: Enabled (interval: 1, prob: 0.1)\n",
      "2025-07-02 17:14:09,984 - INFO - Calculated tau: 256.0, tau_eff: 9.6\n",
      "2025-07-02 17:14:09,985 - INFO - Thermalization sweeps (n_therm): 12800 (factor: 50)\n",
      "2025-07-02 17:14:09,985 - INFO - Decorrelation sweeps (decorrelate): 19 (factor: 2)\n",
      "2025-07-02 17:14:09,985 - INFO - Production sweeps (n_sweeps): 2850\n",
      "2025-07-02 17:14:09,985 - INFO - -----------------------------------------------------\n",
      "2025-07-02 17:14:10,091 - INFO - Starting Monte Carlo simulation...\n"
     ]
    },
    {
     "name": "stdout",
     "output_type": "stream",
     "text": [
      "Initialized MonteCarloSampler on device: cuda:0\n",
      " L=16, BatchSize=38, ChainsPerTemp=10, AMP=True, PT=True, LargeSim=False\n",
      "Starting simulation: 12800 thermalization sweeps, 2850 production sweeps.\n",
      "Thermalization phase...\n",
      "Production phase...\n"
     ]
    },
    {
     "name": "stderr",
     "output_type": "stream",
     "text": [
      "2025-07-02 17:14:28,585 - INFO - Simulation finished. Elapsed time: 18.49 s\n",
      "2025-07-02 17:14:28,586 - INFO - Generated samples shape: torch.Size([38, 1500, 16, 16])\n",
      "2025-07-02 17:14:28,587 - INFO - Ensured directory exists: mc_data\n",
      "2025-07-02 17:14:28,590 - INFO - Ensured directory exists: mc_data/XYModel\n",
      "2025-07-02 17:14:28,592 - INFO - Ensured directory exists: mc_data/XYModel/field_config\n",
      "2025-07-02 17:14:28,595 - INFO - Ensured directory exists: mc_data/XYModel/measurement\n",
      "2025-07-02 17:14:28,596 - INFO - Saving field configurations to: mc_data/XYModel/field_config/XYModel_L16_T0_100-2_000_prec0_050_ens1500_configs.pt\n",
      "2025-07-02 17:14:28,597 - INFO - Configs tensor shape: torch.Size([38, 1500, 16, 16])\n",
      "2025-07-02 17:14:28,597 - INFO - Labels tensor shape: torch.Size([38, 2])\n"
     ]
    },
    {
     "name": "stdout",
     "output_type": "stream",
     "text": [
      "Simulation finished. Collected 1500 samples.\n",
      "labels shape: torch.Size([38, 2])\n",
      "first label pair: tensor([ 0.1000, 16.0000])\n"
     ]
    },
    {
     "name": "stderr",
     "output_type": "stream",
     "text": [
      "2025-07-02 17:14:28,875 - INFO - Field configurations saved.\n",
      "2025-07-02 17:14:28,875 - INFO - Performing measurements...\n",
      "2025-07-02 17:14:29,631 - INFO - Measurements complete.\n",
      "2025-07-02 17:14:29,632 - INFO - Saving measurements dictionary to: mc_data/XYModel/measurement/XYModel_L16_T0_100-2_000_prec0_050_ens1500_measurements.pt\n",
      "2025-07-02 17:14:29,636 - INFO - Measurements dictionary saved.\n",
      "2025-07-02 17:14:29,636 - INFO - Saving plots to: mc_data/XYModel/measurement/XYModel_L16_T0_100-2_000_prec0_050_ens1500_plots.png\n",
      "2025-07-02 17:14:30,162 - INFO - Plots saved.\n",
      "2025-07-02 17:14:30,339 - INFO - Cleared CUDA cache.\n",
      "2025-07-02 17:14:30,340 - INFO - MCDataGenerator call finished. Total time: 20.53 s\n",
      "2025-07-02 17:14:30,341 - INFO - --- Simulation Parameters for XYModel ---\n",
      "2025-07-02 17:14:30,341 - INFO - Lattice size (L): 24\n",
      "2025-07-02 17:14:30,341 - INFO - Temperature range: 0.1 to 2.0 (precision: 0.05, steps: 38)\n",
      "2025-07-02 17:14:30,342 - INFO - Device: cuda:0\n",
      "2025-07-02 17:14:30,342 - INFO - Ensemble number per T: 1500\n",
      "2025-07-02 17:14:30,342 - INFO - Number of chains (n_chains): 10\n",
      "2025-07-02 17:14:30,343 - INFO - Parallel Tempering: Enabled (interval: 1, prob: 0.1)\n",
      "2025-07-02 17:14:30,343 - INFO - Calculated tau: 576.0, tau_eff: 9.8\n",
      "2025-07-02 17:14:30,344 - INFO - Thermalization sweeps (n_therm): 28800 (factor: 50)\n",
      "2025-07-02 17:14:30,344 - INFO - Decorrelation sweeps (decorrelate): 19 (factor: 2)\n",
      "2025-07-02 17:14:30,344 - INFO - Production sweeps (n_sweeps): 2850\n",
      "2025-07-02 17:14:30,345 - INFO - -----------------------------------------------------\n",
      "2025-07-02 17:14:30,347 - INFO - Starting Monte Carlo simulation...\n"
     ]
    },
    {
     "name": "stdout",
     "output_type": "stream",
     "text": [
      "Initialized MonteCarloSampler on device: cuda:0\n",
      " L=24, BatchSize=38, ChainsPerTemp=10, AMP=True, PT=True, LargeSim=False\n",
      "Starting simulation: 28800 thermalization sweeps, 2850 production sweeps.\n",
      "Thermalization phase...\n",
      "Production phase...\n"
     ]
    },
    {
     "name": "stderr",
     "output_type": "stream",
     "text": [
      "2025-07-02 17:15:21,012 - INFO - Simulation finished. Elapsed time: 50.66 s\n",
      "2025-07-02 17:15:21,013 - INFO - Generated samples shape: torch.Size([38, 1500, 24, 24])\n",
      "2025-07-02 17:15:21,015 - INFO - Ensured directory exists: mc_data\n",
      "2025-07-02 17:15:21,017 - INFO - Ensured directory exists: mc_data/XYModel\n",
      "2025-07-02 17:15:21,020 - INFO - Ensured directory exists: mc_data/XYModel/field_config\n",
      "2025-07-02 17:15:21,022 - INFO - Ensured directory exists: mc_data/XYModel/measurement\n",
      "2025-07-02 17:15:21,023 - INFO - Saving field configurations to: mc_data/XYModel/field_config/XYModel_L24_T0_100-2_000_prec0_050_ens1500_configs.pt\n",
      "2025-07-02 17:15:21,023 - INFO - Configs tensor shape: torch.Size([38, 1500, 24, 24])\n",
      "2025-07-02 17:15:21,024 - INFO - Labels tensor shape: torch.Size([38, 2])\n"
     ]
    },
    {
     "name": "stdout",
     "output_type": "stream",
     "text": [
      "Simulation finished. Collected 1500 samples.\n",
      "labels shape: torch.Size([38, 2])\n",
      "first label pair: tensor([ 0.1000, 24.0000])\n"
     ]
    },
    {
     "name": "stderr",
     "output_type": "stream",
     "text": [
      "2025-07-02 17:15:21,623 - INFO - Field configurations saved.\n",
      "2025-07-02 17:15:21,623 - INFO - Performing measurements...\n",
      "2025-07-02 17:15:22,419 - INFO - Measurements complete.\n",
      "2025-07-02 17:15:22,420 - INFO - Saving measurements dictionary to: mc_data/XYModel/measurement/XYModel_L24_T0_100-2_000_prec0_050_ens1500_measurements.pt\n",
      "2025-07-02 17:15:22,424 - INFO - Measurements dictionary saved.\n",
      "2025-07-02 17:15:22,424 - INFO - Saving plots to: mc_data/XYModel/measurement/XYModel_L24_T0_100-2_000_prec0_050_ens1500_plots.png\n",
      "2025-07-02 17:15:22,903 - INFO - Plots saved.\n",
      "2025-07-02 17:15:23,079 - INFO - Cleared CUDA cache.\n",
      "2025-07-02 17:15:23,080 - INFO - MCDataGenerator call finished. Total time: 52.74 s\n",
      "2025-07-02 17:15:23,081 - INFO - --- Simulation Parameters for XYModel ---\n",
      "2025-07-02 17:15:23,081 - INFO - Lattice size (L): 32\n",
      "2025-07-02 17:15:23,082 - INFO - Temperature range: 0.1 to 2.0 (precision: 0.05, steps: 38)\n",
      "2025-07-02 17:15:23,082 - INFO - Device: cuda:0\n",
      "2025-07-02 17:15:23,083 - INFO - Ensemble number per T: 1500\n",
      "2025-07-02 17:15:23,083 - INFO - Number of chains (n_chains): 10\n",
      "2025-07-02 17:15:23,083 - INFO - Parallel Tempering: Enabled (interval: 1, prob: 0.1)\n",
      "2025-07-02 17:15:23,084 - INFO - Calculated tau: 1024.0, tau_eff: 9.9\n",
      "2025-07-02 17:15:23,084 - INFO - Thermalization sweeps (n_therm): 51200 (factor: 50)\n",
      "2025-07-02 17:15:23,084 - INFO - Decorrelation sweeps (decorrelate): 19 (factor: 2)\n",
      "2025-07-02 17:15:23,085 - INFO - Production sweeps (n_sweeps): 2850\n",
      "2025-07-02 17:15:23,085 - INFO - -----------------------------------------------------\n",
      "2025-07-02 17:15:23,089 - INFO - Starting Monte Carlo simulation...\n"
     ]
    },
    {
     "name": "stdout",
     "output_type": "stream",
     "text": [
      "Initialized MonteCarloSampler on device: cuda:0\n",
      " L=32, BatchSize=38, ChainsPerTemp=10, AMP=True, PT=True, LargeSim=False\n",
      "Starting simulation: 51200 thermalization sweeps, 2850 production sweeps.\n",
      "Thermalization phase...\n",
      "Production phase...\n"
     ]
    },
    {
     "name": "stderr",
     "output_type": "stream",
     "text": [
      "2025-07-02 17:16:19,683 - INFO - Simulation finished. Elapsed time: 56.59 s\n",
      "2025-07-02 17:16:19,684 - INFO - Generated samples shape: torch.Size([38, 1500, 32, 32])\n",
      "2025-07-02 17:16:19,685 - INFO - Ensured directory exists: mc_data\n",
      "2025-07-02 17:16:19,687 - INFO - Ensured directory exists: mc_data/XYModel\n",
      "2025-07-02 17:16:19,690 - INFO - Ensured directory exists: mc_data/XYModel/field_config\n",
      "2025-07-02 17:16:19,693 - INFO - Ensured directory exists: mc_data/XYModel/measurement\n",
      "2025-07-02 17:16:19,693 - INFO - Saving field configurations to: mc_data/XYModel/field_config/XYModel_L32_T0_100-2_000_prec0_050_ens1500_configs.pt\n",
      "2025-07-02 17:16:19,693 - INFO - Configs tensor shape: torch.Size([38, 1500, 32, 32])\n",
      "2025-07-02 17:16:19,694 - INFO - Labels tensor shape: torch.Size([38, 2])\n"
     ]
    },
    {
     "name": "stdout",
     "output_type": "stream",
     "text": [
      "Simulation finished. Collected 1500 samples.\n",
      "labels shape: torch.Size([38, 2])\n",
      "first label pair: tensor([ 0.1000, 32.0000])\n"
     ]
    },
    {
     "name": "stderr",
     "output_type": "stream",
     "text": [
      "2025-07-02 17:16:20,769 - INFO - Field configurations saved.\n",
      "2025-07-02 17:16:20,769 - INFO - Performing measurements...\n",
      "2025-07-02 17:16:21,640 - INFO - Measurements complete.\n",
      "2025-07-02 17:16:21,641 - INFO - Saving measurements dictionary to: mc_data/XYModel/measurement/XYModel_L32_T0_100-2_000_prec0_050_ens1500_measurements.pt\n",
      "2025-07-02 17:16:21,645 - INFO - Measurements dictionary saved.\n",
      "2025-07-02 17:16:21,645 - INFO - Saving plots to: mc_data/XYModel/measurement/XYModel_L32_T0_100-2_000_prec0_050_ens1500_plots.png\n",
      "2025-07-02 17:16:22,144 - INFO - Plots saved.\n",
      "2025-07-02 17:16:22,348 - INFO - Cleared CUDA cache.\n",
      "2025-07-02 17:16:22,349 - INFO - MCDataGenerator call finished. Total time: 59.27 s\n",
      "2025-07-02 17:16:22,349 - INFO - --- Simulation Parameters for XYModel ---\n",
      "2025-07-02 17:16:22,350 - INFO - Lattice size (L): 48\n",
      "2025-07-02 17:16:22,350 - INFO - Temperature range: 0.1 to 2.0 (precision: 0.05, steps: 38)\n",
      "2025-07-02 17:16:22,351 - INFO - Device: cuda:0\n",
      "2025-07-02 17:16:22,351 - INFO - Ensemble number per T: 1500\n",
      "2025-07-02 17:16:22,351 - INFO - Number of chains (n_chains): 10\n",
      "2025-07-02 17:16:22,352 - INFO - Parallel Tempering: Enabled (interval: 1, prob: 0.1)\n",
      "2025-07-02 17:16:22,352 - INFO - Calculated tau: 2304.0, tau_eff: 10.0\n",
      "2025-07-02 17:16:22,353 - INFO - Thermalization sweeps (n_therm): 115200 (factor: 50)\n",
      "2025-07-02 17:16:22,353 - INFO - Decorrelation sweeps (decorrelate): 19 (factor: 2)\n",
      "2025-07-02 17:16:22,353 - INFO - Production sweeps (n_sweeps): 2850\n",
      "2025-07-02 17:16:22,354 - INFO - -----------------------------------------------------\n",
      "2025-07-02 17:16:22,357 - INFO - Starting Monte Carlo simulation...\n"
     ]
    },
    {
     "name": "stdout",
     "output_type": "stream",
     "text": [
      "Initialized MonteCarloSampler on device: cuda:0\n",
      " L=48, BatchSize=38, ChainsPerTemp=10, AMP=True, PT=True, LargeSim=False\n",
      "Starting simulation: 115200 thermalization sweeps, 2850 production sweeps.\n",
      "Thermalization phase...\n",
      "Production phase...\n"
     ]
    },
    {
     "name": "stderr",
     "output_type": "stream",
     "text": [
      "2025-07-02 17:18:50,070 - INFO - Simulation finished. Elapsed time: 147.71 s\n",
      "2025-07-02 17:18:50,071 - INFO - Generated samples shape: torch.Size([38, 1500, 48, 48])\n",
      "2025-07-02 17:18:50,073 - INFO - Ensured directory exists: mc_data\n",
      "2025-07-02 17:18:50,075 - INFO - Ensured directory exists: mc_data/XYModel\n",
      "2025-07-02 17:18:50,078 - INFO - Ensured directory exists: mc_data/XYModel/field_config\n",
      "2025-07-02 17:18:50,080 - INFO - Ensured directory exists: mc_data/XYModel/measurement\n"
     ]
    },
    {
     "name": "stdout",
     "output_type": "stream",
     "text": [
      "Simulation finished. Collected 1500 samples.\n"
     ]
    },
    {
     "name": "stderr",
     "output_type": "stream",
     "text": [
      "2025-07-02 17:18:50,081 - INFO - Saving field configurations to: mc_data/XYModel/field_config/XYModel_L48_T0_100-2_000_prec0_050_ens1500_configs.pt\n",
      "2025-07-02 17:18:50,082 - INFO - Configs tensor shape: torch.Size([38, 1500, 48, 48])\n",
      "2025-07-02 17:18:50,082 - INFO - Labels tensor shape: torch.Size([38, 2])\n"
     ]
    },
    {
     "name": "stdout",
     "output_type": "stream",
     "text": [
      "labels shape: torch.Size([38, 2])\n",
      "first label pair: tensor([ 0.1000, 48.0000])\n"
     ]
    },
    {
     "name": "stderr",
     "output_type": "stream",
     "text": [
      "2025-07-02 17:18:52,784 - INFO - Field configurations saved.\n",
      "2025-07-02 17:18:52,784 - INFO - Performing measurements...\n",
      "2025-07-02 17:18:54,045 - INFO - Measurements complete.\n",
      "2025-07-02 17:18:54,046 - INFO - Saving measurements dictionary to: mc_data/XYModel/measurement/XYModel_L48_T0_100-2_000_prec0_050_ens1500_measurements.pt\n",
      "2025-07-02 17:18:54,050 - INFO - Measurements dictionary saved.\n",
      "2025-07-02 17:18:54,050 - INFO - Saving plots to: mc_data/XYModel/measurement/XYModel_L48_T0_100-2_000_prec0_050_ens1500_plots.png\n",
      "2025-07-02 17:18:54,555 - INFO - Plots saved.\n",
      "2025-07-02 17:18:54,761 - INFO - Cleared CUDA cache.\n",
      "2025-07-02 17:18:54,762 - INFO - MCDataGenerator call finished. Total time: 152.41 s\n",
      "2025-07-02 17:18:54,763 - INFO - --- Simulation Parameters for XYModel ---\n",
      "2025-07-02 17:18:54,763 - INFO - Lattice size (L): 64\n",
      "2025-07-02 17:18:54,764 - INFO - Temperature range: 0.1 to 2.0 (precision: 0.05, steps: 38)\n",
      "2025-07-02 17:18:54,764 - INFO - Device: cuda:0\n",
      "2025-07-02 17:18:54,765 - INFO - Ensemble number per T: 1500\n",
      "2025-07-02 17:18:54,765 - INFO - Number of chains (n_chains): 10\n",
      "2025-07-02 17:18:54,765 - INFO - Parallel Tempering: Enabled (interval: 1, prob: 0.1)\n",
      "2025-07-02 17:18:54,766 - INFO - Calculated tau: 4096.0, tau_eff: 10.0\n",
      "2025-07-02 17:18:54,766 - INFO - Thermalization sweeps (n_therm): 204800 (factor: 50)\n",
      "2025-07-02 17:18:54,766 - INFO - Decorrelation sweeps (decorrelate): 19 (factor: 2)\n",
      "2025-07-02 17:18:54,766 - INFO - Production sweeps (n_sweeps): 2850\n",
      "2025-07-02 17:18:54,767 - INFO - -----------------------------------------------------\n",
      "2025-07-02 17:18:54,770 - INFO - Starting Monte Carlo simulation...\n"
     ]
    },
    {
     "name": "stdout",
     "output_type": "stream",
     "text": [
      "Initialized MonteCarloSampler on device: cuda:0\n",
      " L=64, BatchSize=38, ChainsPerTemp=10, AMP=True, PT=True, LargeSim=False\n",
      "Starting simulation: 204800 thermalization sweeps, 2850 production sweeps.\n",
      "Thermalization phase...\n",
      "Production phase...\n",
      "Simulation finished. Collected 1500 samples.\n"
     ]
    },
    {
     "name": "stderr",
     "output_type": "stream",
     "text": [
      "2025-07-02 17:25:04,148 - INFO - Simulation finished. Elapsed time: 369.38 s\n",
      "2025-07-02 17:25:04,149 - INFO - Generated samples shape: torch.Size([38, 1500, 64, 64])\n",
      "2025-07-02 17:25:04,150 - INFO - Ensured directory exists: mc_data\n",
      "2025-07-02 17:25:04,152 - INFO - Ensured directory exists: mc_data/XYModel\n",
      "2025-07-02 17:25:04,155 - INFO - Ensured directory exists: mc_data/XYModel/field_config\n",
      "2025-07-02 17:25:04,158 - INFO - Ensured directory exists: mc_data/XYModel/measurement\n",
      "2025-07-02 17:25:04,159 - INFO - Saving field configurations to: mc_data/XYModel/field_config/XYModel_L64_T0_100-2_000_prec0_050_ens1500_configs.pt\n",
      "2025-07-02 17:25:04,159 - INFO - Configs tensor shape: torch.Size([38, 1500, 64, 64])\n",
      "2025-07-02 17:25:04,159 - INFO - Labels tensor shape: torch.Size([38, 2])\n"
     ]
    },
    {
     "name": "stdout",
     "output_type": "stream",
     "text": [
      "labels shape: torch.Size([38, 2])\n",
      "first label pair: tensor([ 0.1000, 64.0000])\n"
     ]
    },
    {
     "name": "stderr",
     "output_type": "stream",
     "text": [
      "2025-07-02 17:25:08,859 - INFO - Field configurations saved.\n",
      "2025-07-02 17:25:08,859 - INFO - Performing measurements...\n",
      "2025-07-02 17:25:10,457 - INFO - Measurements complete.\n",
      "2025-07-02 17:25:10,458 - INFO - Saving measurements dictionary to: mc_data/XYModel/measurement/XYModel_L64_T0_100-2_000_prec0_050_ens1500_measurements.pt\n",
      "2025-07-02 17:25:10,462 - INFO - Measurements dictionary saved.\n",
      "2025-07-02 17:25:10,463 - INFO - Saving plots to: mc_data/XYModel/measurement/XYModel_L64_T0_100-2_000_prec0_050_ens1500_plots.png\n",
      "2025-07-02 17:25:10,954 - INFO - Plots saved.\n",
      "2025-07-02 17:25:11,153 - INFO - Cleared CUDA cache.\n",
      "2025-07-02 17:25:11,154 - INFO - MCDataGenerator call finished. Total time: 376.39 s\n"
     ]
    }
   ],
   "execution_count": 4
  }
 ],
 "metadata": {
  "kernelspec": {
   "display_name": "Python 3",
   "language": "python",
   "name": "python3"
  },
  "language_info": {
   "codemirror_mode": {
    "name": "ipython",
    "version": 2
   },
   "file_extension": ".py",
   "mimetype": "text/x-python",
   "name": "python",
   "nbconvert_exporter": "python",
   "pygments_lexer": "ipython2",
   "version": "2.7.6"
  }
 },
 "nbformat": 4,
 "nbformat_minor": 5
}
